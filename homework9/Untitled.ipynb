{
 "cells": [
  {
   "cell_type": "code",
   "execution_count": 10,
   "id": "db127e3c-016f-42d3-a3d8-d0f28932a98a",
   "metadata": {},
   "outputs": [
    {
     "ename": "IndentationError",
     "evalue": "unexpected indent (2556654445.py, line 8)",
     "output_type": "error",
     "traceback": [
      "\u001b[0;36m  Cell \u001b[0;32mIn[10], line 8\u001b[0;36m\u001b[0m\n\u001b[0;31m    y_1 = np.sin(x)\u001b[0m\n\u001b[0m    ^\u001b[0m\n\u001b[0;31mIndentationError\u001b[0m\u001b[0;31m:\u001b[0m unexpected indent\n"
     ]
    }
   ],
   "source": [
    "import matplotlib.pyplot as plt\n",
    "import numpy as np\n",
    "\n",
    "    #create a range of x values from 0 to 2pi\n",
    "x = np.linspace(x_1[0], x_1[2 * np.pi], 1000)\n",
    "\n",
    "    #define function\n",
    "y_1 = np.sin(x) \n",
    "y_2 = np.cos(x)\n",
    "\n",
    "    # plot the trig functions\n",
    "plt.plot(x, y_1, label=\"sinx\", color=\"green\")\n",
    "plt.plot (x, y_2, label=\"cos\", color=\"pink\")\n",
    "plt.legend(loc=\"upper right\", bbox_to_anchor=(1.5, 1))\n",
    "    plt.show() # ensures we actually see graphed stuff\n",
    "\n",
    "    fig, axes = plt.subplots(1, 2, figsize=(12, 7))\n",
    "    axes[0].plot(x, y_1, label=\"sin(x)\", color=\"pink\")\n",
    "    axes[0].set_title(\"sin(x)\")\n",
    "    axes[0].set_xlabel(\"x\")\n",
    "    axes[0].set_ylabel(\"sin(x)\")\n",
    "    axes[0].legend()\n",
    "    axes[0].grid(True)\n",
    "    \n",
    "    ax[1].plot(x, y_2, label=\"cos(x)\", color=\"green\")\n",
    "    ax[1].set_title(\"cos(x)\")\n",
    "    axes[1].set_title(\"cos(x)\")\n",
    "    axes[1].set_xlabel(\"x\")\n",
    "    axes[1].set_ylabel(\"cos(x)\")\n",
    "    axes[1].legend()\n",
    "    axes[1].grid(True)\n",
    "\n",
    "    plt.tight_layout()\n",
    "    plt.show()"
   ]
  },
  {
   "cell_type": "code",
   "execution_count": null,
   "id": "8ab4e5a2-ac56-488f-a6e4-d795f72da67b",
   "metadata": {},
   "outputs": [],
   "source": []
  }
 ],
 "metadata": {
  "kernelspec": {
   "display_name": "Python 3 (ipykernel)",
   "language": "python",
   "name": "python3"
  },
  "language_info": {
   "codemirror_mode": {
    "name": "ipython",
    "version": 3
   },
   "file_extension": ".py",
   "mimetype": "text/x-python",
   "name": "python",
   "nbconvert_exporter": "python",
   "pygments_lexer": "ipython3",
   "version": "3.12.4"
  }
 },
 "nbformat": 4,
 "nbformat_minor": 5
}
